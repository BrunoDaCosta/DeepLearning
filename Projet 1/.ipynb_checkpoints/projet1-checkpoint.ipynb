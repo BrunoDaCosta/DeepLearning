{
 "cells": [
  {
   "cell_type": "markdown",
   "metadata": {},
   "source": [
    "# Liste des choses à faire\n",
    "- input: 2x14x14 images, output: bool = first is <= second images\n",
    "- generate 1000 pairs for training & testing (given)\n",
    "- do 2 architectures: weight sharing, auxilliary loss\n",
    "- asses performance and compare\n",
    "- note: we can use the class labels of each image to train, along with boolean value\n",
    "- do a convnet (?) with 25 epochs & 70k params\n",
    "- "
   ]
  },
  {
   "cell_type": "code",
   "execution_count": 1,
   "metadata": {
    "ExecuteTime": {
     "end_time": "2021-04-28T14:16:31.746196Z",
     "start_time": "2021-04-28T14:16:31.727681Z"
    }
   },
   "outputs": [],
   "source": [
    "import torch\n",
    "from six.moves import urllib\n",
    "opener = urllib.request.build_opener()\n",
    "opener.addheaders = [('User-agent', 'Mozilla/5.0')]\n",
    "urllib.request.install_opener(opener)"
   ]
  },
  {
   "cell_type": "code",
   "execution_count": 2,
   "metadata": {
    "ExecuteTime": {
     "end_time": "2021-04-28T16:08:31.890950Z",
     "start_time": "2021-04-28T16:08:31.875955Z"
    }
   },
   "outputs": [],
   "source": [
    "from torch import optim\n",
    "\n",
    "def train_model(model, train_input, train_target, mini_batch_size, nb_epochs=25):\n",
    "    criterion = nn.MSELoss()\n",
    "    optimizer = optim.SGD(model.parameters(), lr = 1e-1)\n",
    "\n",
    "    for e in range(nb_epochs):\n",
    "        for b in range(0, train_input.size(0), mini_batch_size):\n",
    "            output,_ = model(train_input.narrow(0, b, mini_batch_size))\n",
    "            loss = criterion(output, train_target.narrow(0, b, mini_batch_size))\n",
    "            model.zero_grad()\n",
    "            loss.backward()\n",
    "            optimizer.step()\n",
    "\n",
    "def train_model2(model, train_input, train_target, train_classes, mini_batch_size, nb_epochs=25):\n",
    "    criterion = nn.MSELoss()\n",
    "    optimizer = optim.SGD(model.parameters(), lr = 1e-1)\n",
    "\n",
    "    for e in range(nb_epochs):\n",
    "        for b in range(0, train_input.size(0), mini_batch_size):\n",
    "            (output, output2) = model(train_input.narrow(0, b, mini_batch_size))\n",
    "            loss = criterion(output, train_target.narrow(0, b, mini_batch_size)) + criterion(output2, train_classes.narrow(0, b, mini_batch_size))\n",
    "            model.zero_grad()\n",
    "            loss.backward()\n",
    "            optimizer.step()\n",
    "\n",
    "def compute_nb_errors(model, data_input, data_target, mini_batch_size):\n",
    "\n",
    "    nb_data_errors = 0\n",
    "\n",
    "    for b in range(0, data_input.size(0), mini_batch_size):\n",
    "        output,_ = model(data_input.narrow(0, b, mini_batch_size))\n",
    "        predicted_classes = (output>0.5).float()\n",
    "        for k in range(mini_batch_size):\n",
    "            if data_target[b + k] != predicted_classes[k]:\n",
    "                nb_data_errors = nb_data_errors + 1\n",
    "\n",
    "    return nb_data_errors"
   ]
  },
  {
   "cell_type": "code",
   "execution_count": 3,
   "metadata": {
    "ExecuteTime": {
     "end_time": "2021-04-28T16:17:03.246647Z",
     "start_time": "2021-04-28T16:17:03.230096Z"
    }
   },
   "outputs": [],
   "source": [
    "from torch import nn\n",
    "from torch.nn import functional as F\n",
    "\n",
    "class Net(nn.Module):\n",
    "    def __init__(self):\n",
    "        super().__init__()\n",
    "        self.conv1 = nn.Conv2d(1, 16, kernel_size=3)\n",
    "        self.conv2 = nn.Conv2d(16, 32, kernel_size=3)\n",
    "        self.fc1 = nn.Linear(32*4*2, 100)\n",
    "        self.fc2 = nn.Linear(100, 1)\n",
    "\n",
    "    def forward(self, x):\n",
    "        (x_1,x_2) = torch.split(x, 1, 1)\n",
    "        x_1 = F.relu(F.max_pool2d(self.conv1(x_1), kernel_size=2))\n",
    "        x_2 = F.relu(F.max_pool2d(self.conv1(x_2), kernel_size=2))\n",
    "        x_1 = F.relu(F.max_pool2d(self.conv2(x_1), kernel_size=2))\n",
    "        x_2 = F.relu(F.max_pool2d(self.conv2(x_2), kernel_size=2))\n",
    "        x = torch.cat((x_1, x_2),1)\n",
    "        x = F.relu(self.fc1(x.view(-1,32*4*2)))\n",
    "        x = self.fc2(x).sum(1)\n",
    "        return x, False\n",
    "    \n",
    "class Net2(nn.Module):\n",
    "    def __init__(self):\n",
    "        super().__init__()\n",
    "        self.conv1 = nn.Conv2d(1, 16, kernel_size=3)\n",
    "        self.conv2 = nn.Conv2d(16, 32, kernel_size=3)\n",
    "        \n",
    "        self.fc1 = nn.Linear(64*2*2, 100)\n",
    "        self.fc2 = nn.Linear(100, 1)\n",
    "        self.fc1_cl = nn.Linear(64*2*2, 100)\n",
    "        self.fc2_cl = nn.Linear(100, 2)\n",
    "\n",
    "    def forward(self, x):\n",
    "        (x_1,x_2) = torch.split(x, 1, 1)\n",
    "        x_1 = F.relu(F.max_pool2d(self.conv1(x_1), kernel_size=2))\n",
    "        x_2 = F.relu(F.max_pool2d(self.conv1(x_2), kernel_size=2))\n",
    "        x_1 = F.relu(F.max_pool2d(self.conv2(x_1), kernel_size=2))\n",
    "        x_2 = F.relu(F.max_pool2d(self.conv2(x_2), kernel_size=2))\n",
    "        \n",
    "        x = torch.cat((x_1, x_2),1)\n",
    "        \n",
    "        x_target = F.relu(self.fc1(x.view(-1,64*2*2)))\n",
    "        x_target = self.fc2(x_target).sum(1)\n",
    "        x_classes = F.relu(self.fc1_cl(x.view(-1, 64*2*2)))\n",
    "        x_classes = self.fc2_cl(x_classes)\n",
    "\n",
    "        return (x_target, x_classes)"
   ]
  },
  {
   "cell_type": "code",
   "execution_count": 5,
   "metadata": {
    "ExecuteTime": {
     "end_time": "2021-04-28T16:17:04.036233Z",
     "start_time": "2021-04-28T16:17:03.690687Z"
    }
   },
   "outputs": [
    {
     "name": "stdout",
     "output_type": "stream",
     "text": [
      "train_error 0.80% test_error 20.10%\n"
     ]
    }
   ],
   "source": [
    "from dlc_practical_prologue import *\n",
    "\n",
    "# model = Net()\n",
    "model = Net()\n",
    "\n",
    "train_input, train_target, train_classes, test_input, test_target, test_classes = generate_pair_sets(1000)\n",
    "\n",
    "mean, std = train_input.mean(), train_input.std()\n",
    "train_input.sub_(mean).div_(std)\n",
    "test_input.sub_(mean).div_(std)\n",
    "\n",
    "mini_batch_size = 50\n",
    "nb_epochs = 25\n",
    "                                                                                                     \n",
    "train_model(model, train_input, train_target.to(torch.float), mini_batch_size, nb_epochs)\n",
    "#train_model2(model, train_input, train_target.to(torch.float), train_classes.to(torch.float), mini_batch_size, nb_epochs)\n",
    "\n",
    "print('train_error {:.02f}% test_error {:.02f}%'.format( \\\n",
    "            compute_nb_errors(model, train_input, train_target, mini_batch_size) / train_input.size(0) * 100,\n",
    "            compute_nb_errors(model, test_input, test_target, mini_batch_size) / test_input.size(0) * 100 ))\n"
   ]
  },
  {
   "cell_type": "code",
   "execution_count": 7,
   "metadata": {
    "ExecuteTime": {
     "end_time": "2021-04-28T16:04:07.366198Z",
     "start_time": "2021-04-28T16:04:07.118199Z"
    }
   },
   "outputs": [
    {
     "data": {
      "image/png": "[encoded data removed]",
      "text/plain": [
       "<Figure size 720x1440 with 2 Axes>"
      ]
     },
     "metadata": {
      "needs_background": "light"
     },
     "output_type": "display_data"
    },
    {
     "name": "stdout",
     "output_type": "stream",
     "text": [
      "Expected output: 0 (the digits are 6 and 5)\n"
     ]
    }
   ],
   "source": [
    "import matplotlib.pyplot as plt\n",
    "fig=plt.figure(figsize=(10,20))\n",
    "fig.add_subplot(1,2,1)\n",
    "plt.imshow(train_input[0,0], cmap=\"Greys\")\n",
    "fig.add_subplot(1,2,2)\n",
    "plt.imshow(train_input[0,1], cmap=\"Greys\")\n",
    "plt.show()\n",
    "print(\"Expected output: {} (the digits are {} and {})\".format(train_target[0], train_classes[0][0], train_classes[0][1]))"
   ]
  },
  {
   "cell_type": "code",
   "execution_count": null,
   "metadata": {
    "ExecuteTime": {
     "end_time": "2021-04-28T15:52:04.196709Z",
     "start_time": "2021-04-28T15:52:04.175151Z"
    }
   },
   "outputs": [],
   "source": []
  },
  {
   "cell_type": "code",
   "execution_count": null,
   "metadata": {},
   "outputs": [],
   "source": []
  }
 ],
 "metadata": {
  "hide_input": false,
  "kernelspec": {
   "display_name": "Python 3",
   "language": "python",
   "name": "python3"
  },
  "language_info": {
   "codemirror_mode": {
    "name": "ipython",
    "version": 3
   },
   "file_extension": ".py",
   "mimetype": "text/x-python",
   "name": "python",
   "nbconvert_exporter": "python",
   "pygments_lexer": "ipython3",
   "version": "3.8.0"
  },
  "toc": {
   "base_numbering": 1,
   "nav_menu": {},
   "number_sections": true,
   "sideBar": true,
   "skip_h1_title": false,
   "title_cell": "Table of Contents",
   "title_sidebar": "Contents",
   "toc_cell": false,
   "toc_position": {},
   "toc_section_display": true,
   "toc_window_display": false
  }
 },
 "nbformat": 4,
 "nbformat_minor": 2
}
